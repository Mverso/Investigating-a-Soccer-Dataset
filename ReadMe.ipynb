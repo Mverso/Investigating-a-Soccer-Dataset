{
 "cells": [
  {
   "cell_type": "markdown",
   "metadata": {},
   "source": [
    "# ReadMe Dataset\n",
    "\n",
    "I chose to investigate a [European Soccer Dataset](https://www.kaggle.com/hugomathien/soccer) from Kaggle which includes the results to European league match games from 2008 to 2016.\n",
    "\n",
    "## Key Findings\n",
    "\n",
    "1)Goal differentials are highly correlated with point differentials and accounts for 73.9% of the variability in the home team's points, but there are a few notable deviations from the norm. For example, the Italian league has a much higher home point differential relative to its home goal differential than other leagues.\n",
    "\n",
    "2)The Spanish league has the greatest home differential in terms of points and goals while the Scottish league has the lowest in both categories.\n"
   ]
  }
 ],
 "metadata": {
  "kernelspec": {
   "display_name": "Python 3",
   "language": "python",
   "name": "python3"
  },
  "language_info": {
   "codemirror_mode": {
    "name": "ipython",
    "version": 3
   },
   "file_extension": ".py",
   "mimetype": "text/x-python",
   "name": "python",
   "nbconvert_exporter": "python",
   "pygments_lexer": "ipython3",
   "version": "3.7.4"
  }
 },
 "nbformat": 4,
 "nbformat_minor": 4
}
