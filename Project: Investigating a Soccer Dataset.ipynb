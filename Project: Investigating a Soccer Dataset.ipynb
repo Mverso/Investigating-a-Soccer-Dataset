{
 "cells": [
  {
   "cell_type": "markdown",
   "metadata": {},
   "source": [
    "# Project: Investigating a Soccer Dataset \n",
    "\n",
    "## Table of Contents\n",
    "<ul>\n",
    "<li><a href=\"#intro\">Introduction</a></li>\n",
    "<li><a href=\"#SQL\">SQL Code</a></li>\n",
    "<li><a href=\"#wrangling\">Data Wrangling</a></li>\n",
    "<li><a href=\"#eda\">Exploratory Data Analysis</a></li>\n",
    "<li><a href=\"#conclusions\">Conclusions</a></li>\n",
    "</ul>"
   ]
  },
  {
   "cell_type": "markdown",
   "metadata": {},
   "source": [
    "<a id='intro'></a>\n",
    "## Introduction\n",
    "\n",
    "> I have selected to use the [European Soccer Dataset](https://www.kaggle.com/hugomathien/soccer) from Kaggle which includes the results to European league match games from 2008 to 2016.\n",
    "\n",
    ">I plan to explore: <br>\n",
    ">1) What leagues have the greatest home field advantage in regards to home goal differential? <br>\n",
    ">2) What leagues have the greatest home field advantage in regards to home point differential? <br>\n",
    ">3) Do the leagues with the highest home goal differential also have the highest home point differential?\n",
    "    >How well are those correlated? <br>\n",
    ">4) Does the amount of goals scored in a game on average impact home team's point differential or goal differential?\n"
   ]
  },
  {
   "cell_type": "markdown",
   "metadata": {},
   "source": [
    "<a id='SQL Code'></a>\n",
    "## SQL Code\n",
    "\n",
    ">This is the code that was used in SQL to export the CSV I will import and use in this project.\n",
    "\n",
    ">SELECT League.name League_Name, Match.Home_Team_Goal Home_Team_Goal, Match.Away_Team_Goal Away_Team_Goal       \n",
    "FROM League\n",
    "<br>\n",
    "JOIN Match\n",
    "<br>\n",
    "ON League.id = Match.league_id\n",
    "\n",
    "\n"
   ]
  },
  {
   "cell_type": "code",
   "execution_count": 1,
   "metadata": {},
   "outputs": [],
   "source": [
    "import pandas as pd\n",
    "import matplotlib.pyplot as plt\n",
    "import numpy as np\n",
    "import statsmodels.api as sm\n",
    "%matplotlib inline\n",
    "\n"
   ]
  },
  {
   "cell_type": "markdown",
   "metadata": {},
   "source": [
    "<a id='wrangling'></a>\n",
    "## Data Wrangling\n",
    "\n",
    "> Most of the data wrangling took place in my SQL query and only extracting the code I needed from there.\n",
    "\n",
    "### General Properties"
   ]
  },
  {
   "cell_type": "code",
   "execution_count": 2,
   "metadata": {},
   "outputs": [
    {
     "data": {
      "text/html": [
       "<div>\n",
       "<style scoped>\n",
       "    .dataframe tbody tr th:only-of-type {\n",
       "        vertical-align: middle;\n",
       "    }\n",
       "\n",
       "    .dataframe tbody tr th {\n",
       "        vertical-align: top;\n",
       "    }\n",
       "\n",
       "    .dataframe thead th {\n",
       "        text-align: right;\n",
       "    }\n",
       "</style>\n",
       "<table border=\"1\" class=\"dataframe\">\n",
       "  <thead>\n",
       "    <tr style=\"text-align: right;\">\n",
       "      <th></th>\n",
       "      <th>League_Name</th>\n",
       "      <th>Home_Team_Goal</th>\n",
       "      <th>Away_Team_Goal</th>\n",
       "    </tr>\n",
       "  </thead>\n",
       "  <tbody>\n",
       "    <tr>\n",
       "      <th>0</th>\n",
       "      <td>Belgium Jupiler League</td>\n",
       "      <td>1</td>\n",
       "      <td>1</td>\n",
       "    </tr>\n",
       "    <tr>\n",
       "      <th>1</th>\n",
       "      <td>Belgium Jupiler League</td>\n",
       "      <td>0</td>\n",
       "      <td>0</td>\n",
       "    </tr>\n",
       "    <tr>\n",
       "      <th>2</th>\n",
       "      <td>Belgium Jupiler League</td>\n",
       "      <td>0</td>\n",
       "      <td>3</td>\n",
       "    </tr>\n",
       "    <tr>\n",
       "      <th>3</th>\n",
       "      <td>Belgium Jupiler League</td>\n",
       "      <td>5</td>\n",
       "      <td>0</td>\n",
       "    </tr>\n",
       "    <tr>\n",
       "      <th>4</th>\n",
       "      <td>Belgium Jupiler League</td>\n",
       "      <td>1</td>\n",
       "      <td>3</td>\n",
       "    </tr>\n",
       "  </tbody>\n",
       "</table>\n",
       "</div>"
      ],
      "text/plain": [
       "              League_Name  Home_Team_Goal  Away_Team_Goal\n",
       "0  Belgium Jupiler League               1               1\n",
       "1  Belgium Jupiler League               0               0\n",
       "2  Belgium Jupiler League               0               3\n",
       "3  Belgium Jupiler League               5               0\n",
       "4  Belgium Jupiler League               1               3"
      ]
     },
     "execution_count": 2,
     "metadata": {},
     "output_type": "execute_result"
    }
   ],
   "source": [
    "df = pd.read_csv('/Users/markverso/Documents/Python/Soccer DataSet Python.csv')\n",
    "df.head()"
   ]
  },
  {
   "cell_type": "markdown",
   "metadata": {},
   "source": [
    "### Data Cleaning\n",
    "\n",
    ">The data is clean. All rows do not have null values and are in the format they are required to be in for analysis."
   ]
  },
  {
   "cell_type": "code",
   "execution_count": 3,
   "metadata": {},
   "outputs": [
    {
     "name": "stdout",
     "output_type": "stream",
     "text": [
      "<class 'pandas.core.frame.DataFrame'>\n",
      "RangeIndex: 25979 entries, 0 to 25978\n",
      "Data columns (total 3 columns):\n",
      " #   Column          Non-Null Count  Dtype \n",
      "---  ------          --------------  ----- \n",
      " 0   League_Name     25979 non-null  object\n",
      " 1   Home_Team_Goal  25979 non-null  int64 \n",
      " 2   Away_Team_Goal  25979 non-null  int64 \n",
      "dtypes: int64(2), object(1)\n",
      "memory usage: 609.0+ KB\n"
     ]
    }
   ],
   "source": [
    "df.info()"
   ]
  },
  {
   "cell_type": "markdown",
   "metadata": {},
   "source": [
    "<a id='eda'></a>\n",
    "## Exploratory Data Analysis\n",
    "\n",
    "### What leagues have the greatest home Goal Differential Advantage?\n",
    "\n",
    ">To figure this out, I want to get the goal differential for each game."
   ]
  },
  {
   "cell_type": "code",
   "execution_count": 4,
   "metadata": {},
   "outputs": [
    {
     "data": {
      "text/plain": [
       "0        0\n",
       "1        0\n",
       "2       -3\n",
       "3        5\n",
       "4       -2\n",
       "        ..\n",
       "25974    1\n",
       "25975   -1\n",
       "25976    2\n",
       "25977    0\n",
       "25978    1\n",
       "Name: Home_Goal_Differential, Length: 25979, dtype: int64"
      ]
     },
     "execution_count": 4,
     "metadata": {},
     "output_type": "execute_result"
    }
   ],
   "source": [
    "df['Home_Goal_Differential'] = df['Home_Team_Goal'] - df['Away_Team_Goal']\n",
    "df['Home_Goal_Differential']"
   ]
  },
  {
   "cell_type": "markdown",
   "metadata": {},
   "source": [
    ">The average goal differential for European leagues is .38 goals as seen below."
   ]
  },
  {
   "cell_type": "code",
   "execution_count": 5,
   "metadata": {},
   "outputs": [
    {
     "data": {
      "text/html": [
       "<div>\n",
       "<style scoped>\n",
       "    .dataframe tbody tr th:only-of-type {\n",
       "        vertical-align: middle;\n",
       "    }\n",
       "\n",
       "    .dataframe tbody tr th {\n",
       "        vertical-align: top;\n",
       "    }\n",
       "\n",
       "    .dataframe thead th {\n",
       "        text-align: right;\n",
       "    }\n",
       "</style>\n",
       "<table border=\"1\" class=\"dataframe\">\n",
       "  <thead>\n",
       "    <tr style=\"text-align: right;\">\n",
       "      <th></th>\n",
       "      <th>Home_Team_Goal</th>\n",
       "      <th>Away_Team_Goal</th>\n",
       "      <th>Home_Goal_Differential</th>\n",
       "    </tr>\n",
       "  </thead>\n",
       "  <tbody>\n",
       "    <tr>\n",
       "      <th>count</th>\n",
       "      <td>25979.000000</td>\n",
       "      <td>25979.000000</td>\n",
       "      <td>25979.000000</td>\n",
       "    </tr>\n",
       "    <tr>\n",
       "      <th>mean</th>\n",
       "      <td>1.544594</td>\n",
       "      <td>1.160938</td>\n",
       "      <td>0.383656</td>\n",
       "    </tr>\n",
       "    <tr>\n",
       "      <th>std</th>\n",
       "      <td>1.297158</td>\n",
       "      <td>1.142110</td>\n",
       "      <td>1.782403</td>\n",
       "    </tr>\n",
       "    <tr>\n",
       "      <th>min</th>\n",
       "      <td>0.000000</td>\n",
       "      <td>0.000000</td>\n",
       "      <td>-9.000000</td>\n",
       "    </tr>\n",
       "    <tr>\n",
       "      <th>25%</th>\n",
       "      <td>1.000000</td>\n",
       "      <td>0.000000</td>\n",
       "      <td>-1.000000</td>\n",
       "    </tr>\n",
       "    <tr>\n",
       "      <th>50%</th>\n",
       "      <td>1.000000</td>\n",
       "      <td>1.000000</td>\n",
       "      <td>0.000000</td>\n",
       "    </tr>\n",
       "    <tr>\n",
       "      <th>75%</th>\n",
       "      <td>2.000000</td>\n",
       "      <td>2.000000</td>\n",
       "      <td>1.000000</td>\n",
       "    </tr>\n",
       "    <tr>\n",
       "      <th>max</th>\n",
       "      <td>10.000000</td>\n",
       "      <td>9.000000</td>\n",
       "      <td>10.000000</td>\n",
       "    </tr>\n",
       "  </tbody>\n",
       "</table>\n",
       "</div>"
      ],
      "text/plain": [
       "       Home_Team_Goal  Away_Team_Goal  Home_Goal_Differential\n",
       "count    25979.000000    25979.000000            25979.000000\n",
       "mean         1.544594        1.160938                0.383656\n",
       "std          1.297158        1.142110                1.782403\n",
       "min          0.000000        0.000000               -9.000000\n",
       "25%          1.000000        0.000000               -1.000000\n",
       "50%          1.000000        1.000000                0.000000\n",
       "75%          2.000000        2.000000                1.000000\n",
       "max         10.000000        9.000000               10.000000"
      ]
     },
     "execution_count": 5,
     "metadata": {},
     "output_type": "execute_result"
    }
   ],
   "source": [
    "df.describe()"
   ]
  },
  {
   "cell_type": "code",
   "execution_count": 6,
   "metadata": {},
   "outputs": [
    {
     "data": {
      "text/plain": [
       "(1.5445937103044767, 1.1609376804341969, 0.38365602987027986)"
      ]
     },
     "execution_count": 6,
     "metadata": {},
     "output_type": "execute_result"
    }
   ],
   "source": [
    "home_goal_avg = df['Home_Team_Goal'].mean()\n",
    "away_goal_avg = df['Away_Team_Goal'].mean()\n",
    "home_goal_diff = df['Home_Goal_Differential'].mean()\n",
    "home_goal_avg, away_goal_avg, home_goal_diff"
   ]
  },
  {
   "cell_type": "code",
   "execution_count": 7,
   "metadata": {},
   "outputs": [
    {
     "data": {
      "text/plain": [
       "Home_Team_Goal            1.544594\n",
       "Away_Team_Goal            1.160938\n",
       "Home_Goal_Differential    0.383656\n",
       "dtype: float64"
      ]
     },
     "execution_count": 7,
     "metadata": {},
     "output_type": "execute_result"
    },
    {
     "data": {
      "image/png": "[encoded data removed]",
      "text/plain": [
       "<Figure size 432x288 with 1 Axes>"
      ]
     },
     "metadata": {
      "needs_background": "light"
     },
     "output_type": "display_data"
    }
   ],
   "source": [
    "plt.bar([\"Away Goals Average\", \"Home Goals Average\", \"Home Goals Difference\"], [away_goal_avg, home_goal_avg, home_goal_diff])\n",
    "plt.title(\"Home Goals vs. Away Goals\")\n",
    "plt.ylabel(\"Goals\");\n",
    "\n",
    "df.mean()"
   ]
  },
  {
   "cell_type": "markdown",
   "metadata": {},
   "source": [
    ">Below I look at how many goals are typically scored in a game by the home and away teams. This is helpful because below you see that in over 2/3's of games, away teams score 0 or 1 goals while the home generates 2 or more goals in a close to 45% of all games.\n",
    ">Furthermore, the rarity of 3+ goal games indicates that most games are decided by a goal or less which is shown on third histogram below. This indicates that most goals are crucial to a games outcome and a partial goal advantage on average would mean a significant difference in points gained."
   ]
  },
  {
   "cell_type": "code",
   "execution_count": 8,
   "metadata": {},
   "outputs": [
    {
     "data": {
      "text/html": [
       "<div>\n",
       "<style scoped>\n",
       "    .dataframe tbody tr th:only-of-type {\n",
       "        vertical-align: middle;\n",
       "    }\n",
       "\n",
       "    .dataframe tbody tr th {\n",
       "        vertical-align: top;\n",
       "    }\n",
       "\n",
       "    .dataframe thead th {\n",
       "        text-align: right;\n",
       "    }\n",
       "</style>\n",
       "<table border=\"1\" class=\"dataframe\">\n",
       "  <thead>\n",
       "    <tr style=\"text-align: right;\">\n",
       "      <th></th>\n",
       "      <th>Away_Team_Goal</th>\n",
       "    </tr>\n",
       "  </thead>\n",
       "  <tbody>\n",
       "    <tr>\n",
       "      <th>count</th>\n",
       "      <td>25979.000000</td>\n",
       "    </tr>\n",
       "    <tr>\n",
       "      <th>mean</th>\n",
       "      <td>1.160938</td>\n",
       "    </tr>\n",
       "    <tr>\n",
       "      <th>std</th>\n",
       "      <td>1.142110</td>\n",
       "    </tr>\n",
       "    <tr>\n",
       "      <th>min</th>\n",
       "      <td>0.000000</td>\n",
       "    </tr>\n",
       "    <tr>\n",
       "      <th>25%</th>\n",
       "      <td>0.000000</td>\n",
       "    </tr>\n",
       "    <tr>\n",
       "      <th>50%</th>\n",
       "      <td>1.000000</td>\n",
       "    </tr>\n",
       "    <tr>\n",
       "      <th>75%</th>\n",
       "      <td>2.000000</td>\n",
       "    </tr>\n",
       "    <tr>\n",
       "      <th>max</th>\n",
       "      <td>9.000000</td>\n",
       "    </tr>\n",
       "  </tbody>\n",
       "</table>\n",
       "</div>"
      ],
      "text/plain": [
       "       Away_Team_Goal\n",
       "count    25979.000000\n",
       "mean         1.160938\n",
       "std          1.142110\n",
       "min          0.000000\n",
       "25%          0.000000\n",
       "50%          1.000000\n",
       "75%          2.000000\n",
       "max          9.000000"
      ]
     },
     "execution_count": 8,
     "metadata": {},
     "output_type": "execute_result"
    },
    {
     "data": {
      "image/png": "[encoded data removed]",
      "text/plain": [
       "<Figure size 432x288 with 1 Axes>"
      ]
     },
     "metadata": {
      "needs_background": "light"
     },
     "output_type": "display_data"
    }
   ],
   "source": [
    "ax = df[\"Away_Team_Goal\"].plot.hist(weights = np.ones_like(df.index) / len(df.index), \n",
    "                               bins = max(df[\"Away_Team_Goal\"]) - min(df[\"Away_Team_Goal\"]),\n",
    "                               xticks = df[\"Away_Team_Goal\"].unique().tolist(), title = 'Away Goals By Percentage') \n",
    "ax.set_xlabel(\"Away Goals\")\n",
    "ax.set_ylabel(\"Frequency By Percentage\")\n",
    "\n",
    "pd.DataFrame(df[\"Away_Team_Goal\"].describe())"
   ]
  },
  {
   "cell_type": "code",
   "execution_count": 9,
   "metadata": {},
   "outputs": [
    {
     "data": {
      "text/html": [
       "<div>\n",
       "<style scoped>\n",
       "    .dataframe tbody tr th:only-of-type {\n",
       "        vertical-align: middle;\n",
       "    }\n",
       "\n",
       "    .dataframe tbody tr th {\n",
       "        vertical-align: top;\n",
       "    }\n",
       "\n",
       "    .dataframe thead th {\n",
       "        text-align: right;\n",
       "    }\n",
       "</style>\n",
       "<table border=\"1\" class=\"dataframe\">\n",
       "  <thead>\n",
       "    <tr style=\"text-align: right;\">\n",
       "      <th></th>\n",
       "      <th>Home_Team_Goal</th>\n",
       "    </tr>\n",
       "  </thead>\n",
       "  <tbody>\n",
       "    <tr>\n",
       "      <th>count</th>\n",
       "      <td>25979.000000</td>\n",
       "    </tr>\n",
       "    <tr>\n",
       "      <th>mean</th>\n",
       "      <td>1.544594</td>\n",
       "    </tr>\n",
       "    <tr>\n",
       "      <th>std</th>\n",
       "      <td>1.297158</td>\n",
       "    </tr>\n",
       "    <tr>\n",
       "      <th>min</th>\n",
       "      <td>0.000000</td>\n",
       "    </tr>\n",
       "    <tr>\n",
       "      <th>25%</th>\n",
       "      <td>1.000000</td>\n",
       "    </tr>\n",
       "    <tr>\n",
       "      <th>50%</th>\n",
       "      <td>1.000000</td>\n",
       "    </tr>\n",
       "    <tr>\n",
       "      <th>75%</th>\n",
       "      <td>2.000000</td>\n",
       "    </tr>\n",
       "    <tr>\n",
       "      <th>max</th>\n",
       "      <td>10.000000</td>\n",
       "    </tr>\n",
       "  </tbody>\n",
       "</table>\n",
       "</div>"
      ],
      "text/plain": [
       "       Home_Team_Goal\n",
       "count    25979.000000\n",
       "mean         1.544594\n",
       "std          1.297158\n",
       "min          0.000000\n",
       "25%          1.000000\n",
       "50%          1.000000\n",
       "75%          2.000000\n",
       "max         10.000000"
      ]
     },
     "execution_count": 9,
     "metadata": {},
     "output_type": "execute_result"
    },
    {
     "data": {
      "image/png": "[encoded data removed]",
      "text/plain": [
       "<Figure size 432x288 with 1 Axes>"
      ]
     },
     "metadata": {
      "needs_background": "light"
     },
     "output_type": "display_data"
    }
   ],
   "source": [
    "dx = df[\"Home_Team_Goal\"].plot.hist(weights = np.ones_like(df.index) / len(df.index), \n",
    "                               bins = max(df[\"Home_Team_Goal\"]) - min(df[\"Home_Team_Goal\"]), \n",
    "                               xticks = df[\"Home_Team_Goal\"].unique().tolist(), title = 'Home Goals By Percentage') \n",
    "dx.set_xlabel(\"Home Goals\")\n",
    "dx.set_ylabel(\"Frequency By Percentage\")\n",
    "\n",
    "pd.DataFrame(df[\"Home_Team_Goal\"].describe())"
   ]
  },
  {
   "cell_type": "code",
   "execution_count": 10,
   "metadata": {},
   "outputs": [
    {
     "name": "stdout",
     "output_type": "stream",
     "text": [
      "[0, -3, 5, -2, -1, 1, 3, 2, 4, -4, -6, 6, -5, 7, 8, -9, -7, 10, 9, -8]\n"
     ]
    }
   ],
   "source": [
    "xtick = df[\"Home_Goal_Differential\"].unique().tolist()\n",
    "print(xtick)"
   ]
  },
  {
   "cell_type": "code",
   "execution_count": 11,
   "metadata": {},
   "outputs": [
    {
     "data": {
      "text/html": [
       "<div>\n",
       "<style scoped>\n",
       "    .dataframe tbody tr th:only-of-type {\n",
       "        vertical-align: middle;\n",
       "    }\n",
       "\n",
       "    .dataframe tbody tr th {\n",
       "        vertical-align: top;\n",
       "    }\n",
       "\n",
       "    .dataframe thead th {\n",
       "        text-align: right;\n",
       "    }\n",
       "</style>\n",
       "<table border=\"1\" class=\"dataframe\">\n",
       "  <thead>\n",
       "    <tr style=\"text-align: right;\">\n",
       "      <th></th>\n",
       "      <th>Home_Goal_Differential</th>\n",
       "    </tr>\n",
       "  </thead>\n",
       "  <tbody>\n",
       "    <tr>\n",
       "      <th>count</th>\n",
       "      <td>25979.000000</td>\n",
       "    </tr>\n",
       "    <tr>\n",
       "      <th>mean</th>\n",
       "      <td>0.383656</td>\n",
       "    </tr>\n",
       "    <tr>\n",
       "      <th>std</th>\n",
       "      <td>1.782403</td>\n",
       "    </tr>\n",
       "    <tr>\n",
       "      <th>min</th>\n",
       "      <td>-9.000000</td>\n",
       "    </tr>\n",
       "    <tr>\n",
       "      <th>25%</th>\n",
       "      <td>-1.000000</td>\n",
       "    </tr>\n",
       "    <tr>\n",
       "      <th>50%</th>\n",
       "      <td>0.000000</td>\n",
       "    </tr>\n",
       "    <tr>\n",
       "      <th>75%</th>\n",
       "      <td>1.000000</td>\n",
       "    </tr>\n",
       "    <tr>\n",
       "      <th>max</th>\n",
       "      <td>10.000000</td>\n",
       "    </tr>\n",
       "  </tbody>\n",
       "</table>\n",
       "</div>"
      ],
      "text/plain": [
       "       Home_Goal_Differential\n",
       "count            25979.000000\n",
       "mean                 0.383656\n",
       "std                  1.782403\n",
       "min                 -9.000000\n",
       "25%                 -1.000000\n",
       "50%                  0.000000\n",
       "75%                  1.000000\n",
       "max                 10.000000"
      ]
     },
     "execution_count": 11,
     "metadata": {},
     "output_type": "execute_result"
    },
    {
     "data": {
      "image/png": "[encoded data removed]",
      "text/plain": [
       "<Figure size 720x432 with 1 Axes>"
      ]
     },
     "metadata": {
      "needs_background": "light"
     },
     "output_type": "display_data"
    }
   ],
   "source": [
    "cx = df[\"Home_Goal_Differential\"].plot.hist(weights = np.ones_like(df.index) / len(df.index), \n",
    "                                       bins = max(df[\"Home_Goal_Differential\"]) - min(df[\"Home_Goal_Differential\"]),\n",
    "                                       xticks = df[\"Home_Goal_Differential\"].unique().tolist(),\n",
    "                                       figsize = (10,6), title = 'Home Team Goal Differential') \n",
    "cx.set_xlabel(\"Goal Differential By Game\")\n",
    "cx.set_ylabel(\"Frequency By Percentage\")\n",
    "\n",
    "pd.DataFrame(df[\"Home_Goal_Differential\"].describe())"
   ]
  },
  {
   "cell_type": "markdown",
   "metadata": {},
   "source": [
    ">Below is a sorted list of European soccer leagues."
   ]
  },
  {
   "cell_type": "code",
   "execution_count": 12,
   "metadata": {},
   "outputs": [
    {
     "data": {
      "text/plain": [
       "League_Name\n",
       "Spain LIGA BBVA             0.495395\n",
       "Netherlands Eredivisie      0.478758\n",
       "Belgium Jupiler League      0.417245\n",
       "Switzerland Super League    0.396624\n",
       "England Premier League      0.391447\n",
       "Italy Serie A               0.384819\n",
       "Poland Ekstraklasa          0.364583\n",
       "France Ligue 1              0.362829\n",
       "Germany 1. Bundesliga       0.351716\n",
       "Portugal Liga ZON Sagres    0.282164\n",
       "Scotland Premier League     0.224781\n",
       "Name: Home_Goal_Differential, dtype: float64"
      ]
     },
     "execution_count": 12,
     "metadata": {},
     "output_type": "execute_result"
    }
   ],
   "source": [
    "League_Home_Goal_Differential = df.groupby('League_Name')['Home_Goal_Differential'].mean().nlargest(len('League_Name'))\n",
    "League_Home_Goal_Differential"
   ]
  },
  {
   "cell_type": "markdown",
   "metadata": {},
   "source": [
    "### What leagues have the greatest Home Point Differential Advantage? \n",
    "\n",
    "> To understand the league home point differential, you take the home average points minus the away points. The reason why you do this instead of just taking the home point average is that a league that contains all ties would equate to each team getting 1 point per game while a league that has 0 ties would give teams an average of 1.5 points per game (3 to the victor, 0 to the loser). So, home victories matter more in league with more ties. "
   ]
  },
  {
   "cell_type": "code",
   "execution_count": 13,
   "metadata": {},
   "outputs": [
    {
     "data": {
      "text/plain": [
       "1.6300473459332538"
      ]
     },
     "execution_count": 13,
     "metadata": {},
     "output_type": "execute_result"
    }
   ],
   "source": [
    "df['Home_Points'] = df['Home_Goal_Differential'].apply(lambda x: 3 if x > 0 else (1 if x == 0 else 0))\n",
    "df['Home_Points'].mean()"
   ]
  },
  {
   "cell_type": "code",
   "execution_count": 14,
   "metadata": {},
   "outputs": [
    {
     "data": {
      "text/plain": [
       "1.1160552754147581"
      ]
     },
     "execution_count": 14,
     "metadata": {},
     "output_type": "execute_result"
    }
   ],
   "source": [
    "df['Away_Points'] = df['Home_Goal_Differential'].apply(lambda x: 3 if x < 0 else (1 if x == 0 else 0))\n",
    "df['Away_Points'].mean()"
   ]
  },
  {
   "cell_type": "code",
   "execution_count": 15,
   "metadata": {},
   "outputs": [
    {
     "data": {
      "text/plain": [
       "0.5139920705184957"
      ]
     },
     "execution_count": 15,
     "metadata": {},
     "output_type": "execute_result"
    }
   ],
   "source": [
    "df['Home_Point_Differential'] = df['Home_Points'] - df['Away_Points']\n",
    "df['Home_Point_Differential'].mean()"
   ]
  },
  {
   "cell_type": "code",
   "execution_count": 16,
   "metadata": {},
   "outputs": [
    {
     "data": {
      "text/plain": [
       "League_Name\n",
       "Spain LIGA BBVA             0.625658\n",
       "Italy Serie A               0.589659\n",
       "Netherlands Eredivisie      0.582108\n",
       "Belgium Jupiler League      0.550347\n",
       "Poland Ekstraklasa          0.539062\n",
       "France Ligue 1              0.529934\n",
       "England Premier League      0.516118\n",
       "Switzerland Super League    0.472574\n",
       "Germany 1. Bundesliga       0.444853\n",
       "Portugal Liga ZON Sagres    0.434211\n",
       "Scotland Premier League     0.235197\n",
       "Name: Home_Point_Differential, dtype: float64"
      ]
     },
     "execution_count": 16,
     "metadata": {},
     "output_type": "execute_result"
    }
   ],
   "source": [
    "League_Home_Point_Differential = df.groupby('League_Name')['Home_Point_Differential'].mean().nlargest(len('League_Name'))\n",
    "League_Home_Point_Differential"
   ]
  },
  {
   "cell_type": "markdown",
   "metadata": {},
   "source": [
    "### Does a game that includes additional goals for the home team lead to more points for the home team as well?\n",
    "\n",
    "> To understand the correlation I plotted the Home Point Differential and Home Goal Differential on a scatter plot. In order to do this, I have to make both data points part of the same data frame.\n",
    "\n",
    "> I compare the home point differential and home goal differential by making them data frames, which enables me to join them together based on their league names. I use that data to make a plot below."
   ]
  },
  {
   "cell_type": "code",
   "execution_count": 17,
   "metadata": {},
   "outputs": [],
   "source": [
    "League_Home_Point_Differential = League_Home_Point_Differential.to_frame()"
   ]
  },
  {
   "cell_type": "code",
   "execution_count": 18,
   "metadata": {},
   "outputs": [],
   "source": [
    "League_Home_Goal_Differential = League_Home_Goal_Differential.to_frame()"
   ]
  },
  {
   "cell_type": "code",
   "execution_count": 19,
   "metadata": {},
   "outputs": [],
   "source": [
    "results = League_Home_Point_Differential.merge(League_Home_Goal_Differential, on = 'League_Name')"
   ]
  },
  {
   "cell_type": "code",
   "execution_count": 20,
   "metadata": {},
   "outputs": [
    {
     "name": "stderr",
     "output_type": "stream",
     "text": [
      "/Users/markverso/opt/anaconda3/envs/Investigating_A_Dataset/lib/python3.7/site-packages/ipykernel_launcher.py:2: FutureWarning: Indexing with multiple keys (implicitly converted to a tuple of keys) will be deprecated, use a list instead.\n",
      "  \n"
     ]
    },
    {
     "data": {
      "text/html": [
       "<div>\n",
       "<style scoped>\n",
       "    .dataframe tbody tr th:only-of-type {\n",
       "        vertical-align: middle;\n",
       "    }\n",
       "\n",
       "    .dataframe tbody tr th {\n",
       "        vertical-align: top;\n",
       "    }\n",
       "\n",
       "    .dataframe thead th {\n",
       "        text-align: right;\n",
       "    }\n",
       "</style>\n",
       "<table border=\"1\" class=\"dataframe\">\n",
       "  <thead>\n",
       "    <tr style=\"text-align: right;\">\n",
       "      <th></th>\n",
       "      <th>Home_Point_Differential</th>\n",
       "      <th>Home_Goal_Differential</th>\n",
       "    </tr>\n",
       "    <tr>\n",
       "      <th>League_Name</th>\n",
       "      <th></th>\n",
       "      <th></th>\n",
       "    </tr>\n",
       "  </thead>\n",
       "  <tbody>\n",
       "    <tr>\n",
       "      <th>Belgium Jupiler League</th>\n",
       "      <td>0.550347</td>\n",
       "      <td>0.417245</td>\n",
       "    </tr>\n",
       "    <tr>\n",
       "      <th>England Premier League</th>\n",
       "      <td>0.516118</td>\n",
       "      <td>0.391447</td>\n",
       "    </tr>\n",
       "    <tr>\n",
       "      <th>France Ligue 1</th>\n",
       "      <td>0.529934</td>\n",
       "      <td>0.362829</td>\n",
       "    </tr>\n",
       "    <tr>\n",
       "      <th>Germany 1. Bundesliga</th>\n",
       "      <td>0.444853</td>\n",
       "      <td>0.351716</td>\n",
       "    </tr>\n",
       "    <tr>\n",
       "      <th>Italy Serie A</th>\n",
       "      <td>0.589659</td>\n",
       "      <td>0.384819</td>\n",
       "    </tr>\n",
       "    <tr>\n",
       "      <th>Netherlands Eredivisie</th>\n",
       "      <td>0.582108</td>\n",
       "      <td>0.478758</td>\n",
       "    </tr>\n",
       "    <tr>\n",
       "      <th>Poland Ekstraklasa</th>\n",
       "      <td>0.539062</td>\n",
       "      <td>0.364583</td>\n",
       "    </tr>\n",
       "    <tr>\n",
       "      <th>Portugal Liga ZON Sagres</th>\n",
       "      <td>0.434211</td>\n",
       "      <td>0.282164</td>\n",
       "    </tr>\n",
       "    <tr>\n",
       "      <th>Scotland Premier League</th>\n",
       "      <td>0.235197</td>\n",
       "      <td>0.224781</td>\n",
       "    </tr>\n",
       "    <tr>\n",
       "      <th>Spain LIGA BBVA</th>\n",
       "      <td>0.625658</td>\n",
       "      <td>0.495395</td>\n",
       "    </tr>\n",
       "    <tr>\n",
       "      <th>Switzerland Super League</th>\n",
       "      <td>0.472574</td>\n",
       "      <td>0.396624</td>\n",
       "    </tr>\n",
       "  </tbody>\n",
       "</table>\n",
       "</div>"
      ],
      "text/plain": [
       "                          Home_Point_Differential  Home_Goal_Differential\n",
       "League_Name                                                              \n",
       "Belgium Jupiler League                   0.550347                0.417245\n",
       "England Premier League                   0.516118                0.391447\n",
       "France Ligue 1                           0.529934                0.362829\n",
       "Germany 1. Bundesliga                    0.444853                0.351716\n",
       "Italy Serie A                            0.589659                0.384819\n",
       "Netherlands Eredivisie                   0.582108                0.478758\n",
       "Poland Ekstraklasa                       0.539062                0.364583\n",
       "Portugal Liga ZON Sagres                 0.434211                0.282164\n",
       "Scotland Premier League                  0.235197                0.224781\n",
       "Spain LIGA BBVA                          0.625658                0.495395\n",
       "Switzerland Super League                 0.472574                0.396624"
      ]
     },
     "execution_count": 20,
     "metadata": {},
     "output_type": "execute_result"
    },
    {
     "data": {
      "image/png": "[encoded data removed]",
      "text/plain": [
       "<Figure size 432x288 with 1 Axes>"
      ]
     },
     "metadata": {
      "needs_background": "light"
     },
     "output_type": "display_data"
    }
   ],
   "source": [
    "results.plot(x = 'Home_Goal_Differential', y = 'Home_Point_Differential', kind = 'scatter', title = 'Goal Vs Point Differential')\n",
    "results.groupby('League_Name')['Home_Point_Differential','Home_Goal_Differential'].mean()"
   ]
  },
  {
   "cell_type": "code",
   "execution_count": 21,
   "metadata": {},
   "outputs": [
    {
     "data": {
      "text/html": [
       "<table class=\"simpletable\">\n",
       "<caption>OLS Regression Results</caption>\n",
       "<tr>\n",
       "  <th>Dep. Variable:</th>    <td>Home_Point_Differential</td> <th>  R-squared:         </th> <td>   0.739</td> \n",
       "</tr>\n",
       "<tr>\n",
       "  <th>Model:</th>                      <td>OLS</td>           <th>  Adj. R-squared:    </th> <td>   0.739</td> \n",
       "</tr>\n",
       "<tr>\n",
       "  <th>Method:</th>                <td>Least Squares</td>      <th>  F-statistic:       </th> <td>7.371e+04</td>\n",
       "</tr>\n",
       "<tr>\n",
       "  <th>Date:</th>                <td>Wed, 15 Apr 2020</td>     <th>  Prob (F-statistic):</th>  <td>  0.00</td>  \n",
       "</tr>\n",
       "<tr>\n",
       "  <th>Time:</th>                    <td>20:03:56</td>         <th>  Log-Likelihood:    </th> <td> -43608.</td> \n",
       "</tr>\n",
       "<tr>\n",
       "  <th>No. Observations:</th>         <td> 25979</td>          <th>  AIC:               </th> <td>8.722e+04</td>\n",
       "</tr>\n",
       "<tr>\n",
       "  <th>Df Residuals:</th>             <td> 25977</td>          <th>  BIC:               </th> <td>8.724e+04</td>\n",
       "</tr>\n",
       "<tr>\n",
       "  <th>Df Model:</th>                 <td>     1</td>          <th>                     </th>     <td> </td>    \n",
       "</tr>\n",
       "<tr>\n",
       "  <th>Covariance Type:</th>         <td>nonrobust</td>        <th>                     </th>     <td> </td>    \n",
       "</tr>\n",
       "</table>\n",
       "<table class=\"simpletable\">\n",
       "<tr>\n",
       "             <td></td>               <th>coef</th>     <th>std err</th>      <th>t</th>      <th>P>|t|</th>  <th>[0.025</th>    <th>0.975]</th>  \n",
       "</tr>\n",
       "<tr>\n",
       "  <th>intercept</th>              <td>    0.0439</td> <td>    0.008</td> <td>    5.334</td> <td> 0.000</td> <td>    0.028</td> <td>    0.060</td>\n",
       "</tr>\n",
       "<tr>\n",
       "  <th>Home_Goal_Differential</th> <td>    1.2253</td> <td>    0.005</td> <td>  271.503</td> <td> 0.000</td> <td>    1.216</td> <td>    1.234</td>\n",
       "</tr>\n",
       "</table>\n",
       "<table class=\"simpletable\">\n",
       "<tr>\n",
       "  <th>Omnibus:</th>       <td>426.271</td> <th>  Durbin-Watson:     </th> <td>   2.015</td> \n",
       "</tr>\n",
       "<tr>\n",
       "  <th>Prob(Omnibus):</th> <td> 0.000</td>  <th>  Jarque-Bera (JB):  </th> <td> 488.630</td> \n",
       "</tr>\n",
       "<tr>\n",
       "  <th>Skew:</th>          <td>-0.269</td>  <th>  Prob(JB):          </th> <td>7.86e-107</td>\n",
       "</tr>\n",
       "<tr>\n",
       "  <th>Kurtosis:</th>      <td> 3.402</td>  <th>  Cond. No.          </th> <td>    1.90</td> \n",
       "</tr>\n",
       "</table><br/><br/>Warnings:<br/>[1] Standard Errors assume that the covariance matrix of the errors is correctly specified."
      ],
      "text/plain": [
       "<class 'statsmodels.iolib.summary.Summary'>\n",
       "\"\"\"\n",
       "                               OLS Regression Results                              \n",
       "===================================================================================\n",
       "Dep. Variable:     Home_Point_Differential   R-squared:                       0.739\n",
       "Model:                                 OLS   Adj. R-squared:                  0.739\n",
       "Method:                      Least Squares   F-statistic:                 7.371e+04\n",
       "Date:                     Wed, 15 Apr 2020   Prob (F-statistic):               0.00\n",
       "Time:                             20:03:56   Log-Likelihood:                -43608.\n",
       "No. Observations:                    25979   AIC:                         8.722e+04\n",
       "Df Residuals:                        25977   BIC:                         8.724e+04\n",
       "Df Model:                                1                                         \n",
       "Covariance Type:                 nonrobust                                         \n",
       "==========================================================================================\n",
       "                             coef    std err          t      P>|t|      [0.025      0.975]\n",
       "------------------------------------------------------------------------------------------\n",
       "intercept                  0.0439      0.008      5.334      0.000       0.028       0.060\n",
       "Home_Goal_Differential     1.2253      0.005    271.503      0.000       1.216       1.234\n",
       "==============================================================================\n",
       "Omnibus:                      426.271   Durbin-Watson:                   2.015\n",
       "Prob(Omnibus):                  0.000   Jarque-Bera (JB):              488.630\n",
       "Skew:                          -0.269   Prob(JB):                    7.86e-107\n",
       "Kurtosis:                       3.402   Cond. No.                         1.90\n",
       "==============================================================================\n",
       "\n",
       "Warnings:\n",
       "[1] Standard Errors assume that the covariance matrix of the errors is correctly specified.\n",
       "\"\"\""
      ]
     },
     "execution_count": 21,
     "metadata": {},
     "output_type": "execute_result"
    }
   ],
   "source": [
    "df['intercept'] = 1\n",
    "\n",
    "lm = sm.OLS(df['Home_Point_Differential'], df[['intercept', 'Home_Goal_Differential']])\n",
    "result = lm.fit()\n",
    "result.summary()\n"
   ]
  },
  {
   "cell_type": "markdown",
   "metadata": {},
   "source": [
    ">The regression analysis above shows that a team's home goal differential does have close to a 100% certainty of impacting their point differential when playing at home because the Home_Goal_Differential P-Value is 0.000.\n",
    "Furthermore, the home team's goal differential accounts for 73.9% of the variability in the home team's points based on the R^2 value of .739."
   ]
  },
  {
   "cell_type": "markdown",
   "metadata": {},
   "source": [
    "### Does the amount of goals scored in a game impact goal differentials and/or point differentials?\n",
    "\n",
    "> To understand this I would want to investiage how many goals are scored on average in each league. Italy is known as being a defensive league and goals matter more when they are scored. \n",
    "\n",
    "> I investigate this by adding the average home and away goals from each league together and adding them to the result data frame."
   ]
  },
  {
   "cell_type": "code",
   "execution_count": 22,
   "metadata": {},
   "outputs": [],
   "source": [
    "df['Total_League_Goals'] = df['Home_Team_Goal'] + df['Away_Team_Goal']\n",
    "League_Average_Goals = df.groupby('League_Name')['Total_League_Goals'].mean().nlargest(len('League_Name'))\n",
    "League_Average_Goals = League_Average_Goals.to_frame()\n",
    "results = results.merge(League_Average_Goals, on = 'League_Name')\n"
   ]
  },
  {
   "cell_type": "code",
   "execution_count": 23,
   "metadata": {},
   "outputs": [
    {
     "name": "stderr",
     "output_type": "stream",
     "text": [
      "/Users/markverso/opt/anaconda3/envs/Investigating_A_Dataset/lib/python3.7/site-packages/ipykernel_launcher.py:2: FutureWarning: Indexing with multiple keys (implicitly converted to a tuple of keys) will be deprecated, use a list instead.\n",
      "  \n"
     ]
    },
    {
     "data": {
      "text/html": [
       "<div>\n",
       "<style scoped>\n",
       "    .dataframe tbody tr th:only-of-type {\n",
       "        vertical-align: middle;\n",
       "    }\n",
       "\n",
       "    .dataframe tbody tr th {\n",
       "        vertical-align: top;\n",
       "    }\n",
       "\n",
       "    .dataframe thead th {\n",
       "        text-align: right;\n",
       "    }\n",
       "</style>\n",
       "<table border=\"1\" class=\"dataframe\">\n",
       "  <thead>\n",
       "    <tr style=\"text-align: right;\">\n",
       "      <th></th>\n",
       "      <th>Home_Goal_Differential</th>\n",
       "      <th>Total_League_Goals</th>\n",
       "    </tr>\n",
       "    <tr>\n",
       "      <th>League_Name</th>\n",
       "      <th></th>\n",
       "      <th></th>\n",
       "    </tr>\n",
       "  </thead>\n",
       "  <tbody>\n",
       "    <tr>\n",
       "      <th>Belgium Jupiler League</th>\n",
       "      <td>0.417245</td>\n",
       "      <td>2.801505</td>\n",
       "    </tr>\n",
       "    <tr>\n",
       "      <th>England Premier League</th>\n",
       "      <td>0.391447</td>\n",
       "      <td>2.710526</td>\n",
       "    </tr>\n",
       "    <tr>\n",
       "      <th>France Ligue 1</th>\n",
       "      <td>0.362829</td>\n",
       "      <td>2.443092</td>\n",
       "    </tr>\n",
       "    <tr>\n",
       "      <th>Germany 1. Bundesliga</th>\n",
       "      <td>0.351716</td>\n",
       "      <td>2.901552</td>\n",
       "    </tr>\n",
       "    <tr>\n",
       "      <th>Italy Serie A</th>\n",
       "      <td>0.384819</td>\n",
       "      <td>2.616838</td>\n",
       "    </tr>\n",
       "    <tr>\n",
       "      <th>Netherlands Eredivisie</th>\n",
       "      <td>0.478758</td>\n",
       "      <td>3.080882</td>\n",
       "    </tr>\n",
       "    <tr>\n",
       "      <th>Poland Ekstraklasa</th>\n",
       "      <td>0.364583</td>\n",
       "      <td>2.425000</td>\n",
       "    </tr>\n",
       "    <tr>\n",
       "      <th>Portugal Liga ZON Sagres</th>\n",
       "      <td>0.282164</td>\n",
       "      <td>2.534600</td>\n",
       "    </tr>\n",
       "    <tr>\n",
       "      <th>Scotland Premier League</th>\n",
       "      <td>0.224781</td>\n",
       "      <td>2.633772</td>\n",
       "    </tr>\n",
       "    <tr>\n",
       "      <th>Spain LIGA BBVA</th>\n",
       "      <td>0.495395</td>\n",
       "      <td>2.767105</td>\n",
       "    </tr>\n",
       "    <tr>\n",
       "      <th>Switzerland Super League</th>\n",
       "      <td>0.396624</td>\n",
       "      <td>2.929677</td>\n",
       "    </tr>\n",
       "  </tbody>\n",
       "</table>\n",
       "</div>"
      ],
      "text/plain": [
       "                          Home_Goal_Differential  Total_League_Goals\n",
       "League_Name                                                         \n",
       "Belgium Jupiler League                  0.417245            2.801505\n",
       "England Premier League                  0.391447            2.710526\n",
       "France Ligue 1                          0.362829            2.443092\n",
       "Germany 1. Bundesliga                   0.351716            2.901552\n",
       "Italy Serie A                           0.384819            2.616838\n",
       "Netherlands Eredivisie                  0.478758            3.080882\n",
       "Poland Ekstraklasa                      0.364583            2.425000\n",
       "Portugal Liga ZON Sagres                0.282164            2.534600\n",
       "Scotland Premier League                 0.224781            2.633772\n",
       "Spain LIGA BBVA                         0.495395            2.767105\n",
       "Switzerland Super League                0.396624            2.929677"
      ]
     },
     "execution_count": 23,
     "metadata": {},
     "output_type": "execute_result"
    },
    {
     "data": {
      "image/png": "[encoded data removed]",
      "text/plain": [
       "<Figure size 432x288 with 1 Axes>"
      ]
     },
     "metadata": {
      "needs_background": "light"
     },
     "output_type": "display_data"
    }
   ],
   "source": [
    "results.plot(x = 'Total_League_Goals', y = 'Home_Goal_Differential', kind = 'scatter', title = 'Home Goal Differential Vs Total League Goals')\n",
    "results.groupby('League_Name')['Home_Goal_Differential','Total_League_Goals'].mean()"
   ]
  },
  {
   "cell_type": "code",
   "execution_count": 24,
   "metadata": {},
   "outputs": [
    {
     "data": {
      "text/html": [
       "<table class=\"simpletable\">\n",
       "<caption>OLS Regression Results</caption>\n",
       "<tr>\n",
       "  <th>Dep. Variable:</th>    <td>Home_Goal_Differential</td> <th>  R-squared:         </th> <td>   0.016</td> \n",
       "</tr>\n",
       "<tr>\n",
       "  <th>Model:</th>                      <td>OLS</td>          <th>  Adj. R-squared:    </th> <td>   0.016</td> \n",
       "</tr>\n",
       "<tr>\n",
       "  <th>Method:</th>                <td>Least Squares</td>     <th>  F-statistic:       </th> <td>   425.0</td> \n",
       "</tr>\n",
       "<tr>\n",
       "  <th>Date:</th>                <td>Wed, 15 Apr 2020</td>    <th>  Prob (F-statistic):</th> <td>1.13e-93</td> \n",
       "</tr>\n",
       "<tr>\n",
       "  <th>Time:</th>                    <td>20:03:57</td>        <th>  Log-Likelihood:    </th> <td> -51666.</td> \n",
       "</tr>\n",
       "<tr>\n",
       "  <th>No. Observations:</th>         <td> 25979</td>         <th>  AIC:               </th> <td>1.033e+05</td>\n",
       "</tr>\n",
       "<tr>\n",
       "  <th>Df Residuals:</th>             <td> 25977</td>         <th>  BIC:               </th> <td>1.034e+05</td>\n",
       "</tr>\n",
       "<tr>\n",
       "  <th>Df Model:</th>                 <td>     1</td>         <th>                     </th>     <td> </td>    \n",
       "</tr>\n",
       "<tr>\n",
       "  <th>Covariance Type:</th>         <td>nonrobust</td>       <th>                     </th>     <td> </td>    \n",
       "</tr>\n",
       "</table>\n",
       "<table class=\"simpletable\">\n",
       "<tr>\n",
       "           <td></td>             <th>coef</th>     <th>std err</th>      <th>t</th>      <th>P>|t|</th>  <th>[0.025</th>    <th>0.975]</th>  \n",
       "</tr>\n",
       "<tr>\n",
       "  <th>intercept</th>          <td>    0.0178</td> <td>    0.021</td> <td>    0.855</td> <td> 0.393</td> <td>   -0.023</td> <td>    0.059</td>\n",
       "</tr>\n",
       "<tr>\n",
       "  <th>Total_League_Goals</th> <td>    0.1352</td> <td>    0.007</td> <td>   20.615</td> <td> 0.000</td> <td>    0.122</td> <td>    0.148</td>\n",
       "</tr>\n",
       "</table>\n",
       "<table class=\"simpletable\">\n",
       "<tr>\n",
       "  <th>Omnibus:</th>       <td>564.648</td> <th>  Durbin-Watson:     </th> <td>   2.008</td> \n",
       "</tr>\n",
       "<tr>\n",
       "  <th>Prob(Omnibus):</th> <td> 0.000</td>  <th>  Jarque-Bera (JB):  </th> <td> 852.881</td> \n",
       "</tr>\n",
       "<tr>\n",
       "  <th>Skew:</th>          <td>-0.233</td>  <th>  Prob(JB):          </th> <td>6.30e-186</td>\n",
       "</tr>\n",
       "<tr>\n",
       "  <th>Kurtosis:</th>      <td> 3.756</td>  <th>  Cond. No.          </th> <td>    6.49</td> \n",
       "</tr>\n",
       "</table><br/><br/>Warnings:<br/>[1] Standard Errors assume that the covariance matrix of the errors is correctly specified."
      ],
      "text/plain": [
       "<class 'statsmodels.iolib.summary.Summary'>\n",
       "\"\"\"\n",
       "                              OLS Regression Results                              \n",
       "==================================================================================\n",
       "Dep. Variable:     Home_Goal_Differential   R-squared:                       0.016\n",
       "Model:                                OLS   Adj. R-squared:                  0.016\n",
       "Method:                     Least Squares   F-statistic:                     425.0\n",
       "Date:                    Wed, 15 Apr 2020   Prob (F-statistic):           1.13e-93\n",
       "Time:                            20:03:57   Log-Likelihood:                -51666.\n",
       "No. Observations:                   25979   AIC:                         1.033e+05\n",
       "Df Residuals:                       25977   BIC:                         1.034e+05\n",
       "Df Model:                               1                                         \n",
       "Covariance Type:                nonrobust                                         \n",
       "======================================================================================\n",
       "                         coef    std err          t      P>|t|      [0.025      0.975]\n",
       "--------------------------------------------------------------------------------------\n",
       "intercept              0.0178      0.021      0.855      0.393      -0.023       0.059\n",
       "Total_League_Goals     0.1352      0.007     20.615      0.000       0.122       0.148\n",
       "==============================================================================\n",
       "Omnibus:                      564.648   Durbin-Watson:                   2.008\n",
       "Prob(Omnibus):                  0.000   Jarque-Bera (JB):              852.881\n",
       "Skew:                          -0.233   Prob(JB):                    6.30e-186\n",
       "Kurtosis:                       3.756   Cond. No.                         6.49\n",
       "==============================================================================\n",
       "\n",
       "Warnings:\n",
       "[1] Standard Errors assume that the covariance matrix of the errors is correctly specified.\n",
       "\"\"\""
      ]
     },
     "execution_count": 24,
     "metadata": {},
     "output_type": "execute_result"
    }
   ],
   "source": [
    "df['intercept'] = 1\n",
    "\n",
    "lm = sm.OLS(df['Home_Goal_Differential'], df[['intercept', 'Total_League_Goals']])\n",
    "result = lm.fit()\n",
    "result.summary()"
   ]
  },
  {
   "cell_type": "code",
   "execution_count": 25,
   "metadata": {},
   "outputs": [
    {
     "name": "stderr",
     "output_type": "stream",
     "text": [
      "/Users/markverso/opt/anaconda3/envs/Investigating_A_Dataset/lib/python3.7/site-packages/ipykernel_launcher.py:2: FutureWarning: Indexing with multiple keys (implicitly converted to a tuple of keys) will be deprecated, use a list instead.\n",
      "  \n"
     ]
    },
    {
     "data": {
      "text/html": [
       "<div>\n",
       "<style scoped>\n",
       "    .dataframe tbody tr th:only-of-type {\n",
       "        vertical-align: middle;\n",
       "    }\n",
       "\n",
       "    .dataframe tbody tr th {\n",
       "        vertical-align: top;\n",
       "    }\n",
       "\n",
       "    .dataframe thead th {\n",
       "        text-align: right;\n",
       "    }\n",
       "</style>\n",
       "<table border=\"1\" class=\"dataframe\">\n",
       "  <thead>\n",
       "    <tr style=\"text-align: right;\">\n",
       "      <th></th>\n",
       "      <th>Home_Point_Differential</th>\n",
       "      <th>Total_League_Goals</th>\n",
       "    </tr>\n",
       "    <tr>\n",
       "      <th>League_Name</th>\n",
       "      <th></th>\n",
       "      <th></th>\n",
       "    </tr>\n",
       "  </thead>\n",
       "  <tbody>\n",
       "    <tr>\n",
       "      <th>Belgium Jupiler League</th>\n",
       "      <td>0.550347</td>\n",
       "      <td>2.801505</td>\n",
       "    </tr>\n",
       "    <tr>\n",
       "      <th>England Premier League</th>\n",
       "      <td>0.516118</td>\n",
       "      <td>2.710526</td>\n",
       "    </tr>\n",
       "    <tr>\n",
       "      <th>France Ligue 1</th>\n",
       "      <td>0.529934</td>\n",
       "      <td>2.443092</td>\n",
       "    </tr>\n",
       "    <tr>\n",
       "      <th>Germany 1. Bundesliga</th>\n",
       "      <td>0.444853</td>\n",
       "      <td>2.901552</td>\n",
       "    </tr>\n",
       "    <tr>\n",
       "      <th>Italy Serie A</th>\n",
       "      <td>0.589659</td>\n",
       "      <td>2.616838</td>\n",
       "    </tr>\n",
       "    <tr>\n",
       "      <th>Netherlands Eredivisie</th>\n",
       "      <td>0.582108</td>\n",
       "      <td>3.080882</td>\n",
       "    </tr>\n",
       "    <tr>\n",
       "      <th>Poland Ekstraklasa</th>\n",
       "      <td>0.539062</td>\n",
       "      <td>2.425000</td>\n",
       "    </tr>\n",
       "    <tr>\n",
       "      <th>Portugal Liga ZON Sagres</th>\n",
       "      <td>0.434211</td>\n",
       "      <td>2.534600</td>\n",
       "    </tr>\n",
       "    <tr>\n",
       "      <th>Scotland Premier League</th>\n",
       "      <td>0.235197</td>\n",
       "      <td>2.633772</td>\n",
       "    </tr>\n",
       "    <tr>\n",
       "      <th>Spain LIGA BBVA</th>\n",
       "      <td>0.625658</td>\n",
       "      <td>2.767105</td>\n",
       "    </tr>\n",
       "    <tr>\n",
       "      <th>Switzerland Super League</th>\n",
       "      <td>0.472574</td>\n",
       "      <td>2.929677</td>\n",
       "    </tr>\n",
       "  </tbody>\n",
       "</table>\n",
       "</div>"
      ],
      "text/plain": [
       "                          Home_Point_Differential  Total_League_Goals\n",
       "League_Name                                                          \n",
       "Belgium Jupiler League                   0.550347            2.801505\n",
       "England Premier League                   0.516118            2.710526\n",
       "France Ligue 1                           0.529934            2.443092\n",
       "Germany 1. Bundesliga                    0.444853            2.901552\n",
       "Italy Serie A                            0.589659            2.616838\n",
       "Netherlands Eredivisie                   0.582108            3.080882\n",
       "Poland Ekstraklasa                       0.539062            2.425000\n",
       "Portugal Liga ZON Sagres                 0.434211            2.534600\n",
       "Scotland Premier League                  0.235197            2.633772\n",
       "Spain LIGA BBVA                          0.625658            2.767105\n",
       "Switzerland Super League                 0.472574            2.929677"
      ]
     },
     "execution_count": 25,
     "metadata": {},
     "output_type": "execute_result"
    },
    {
     "data": {
      "image/png": "[encoded data removed]",
      "text/plain": [
       "<Figure size 432x288 with 1 Axes>"
      ]
     },
     "metadata": {
      "needs_background": "light"
     },
     "output_type": "display_data"
    }
   ],
   "source": [
    "results.plot(x = 'Home_Point_Differential', y = 'Total_League_Goals', kind = 'scatter', title = 'Home Point Differential Vs Total League Goals')\n",
    "results.groupby('League_Name')['Home_Point_Differential','Total_League_Goals'].mean()"
   ]
  },
  {
   "cell_type": "code",
   "execution_count": 26,
   "metadata": {},
   "outputs": [
    {
     "data": {
      "text/html": [
       "<table class=\"simpletable\">\n",
       "<caption>OLS Regression Results</caption>\n",
       "<tr>\n",
       "  <th>Dep. Variable:</th>    <td>Home_Point_Differential</td> <th>  R-squared:         </th> <td>   0.003</td> \n",
       "</tr>\n",
       "<tr>\n",
       "  <th>Model:</th>                      <td>OLS</td>           <th>  Adj. R-squared:    </th> <td>   0.003</td> \n",
       "</tr>\n",
       "<tr>\n",
       "  <th>Method:</th>                <td>Least Squares</td>      <th>  F-statistic:       </th> <td>   68.81</td> \n",
       "</tr>\n",
       "<tr>\n",
       "  <th>Date:</th>                <td>Wed, 15 Apr 2020</td>     <th>  Prob (F-statistic):</th> <td>1.13e-16</td> \n",
       "</tr>\n",
       "<tr>\n",
       "  <th>Time:</th>                    <td>20:03:57</td>         <th>  Log-Likelihood:    </th> <td> -61043.</td> \n",
       "</tr>\n",
       "<tr>\n",
       "  <th>No. Observations:</th>         <td> 25979</td>          <th>  AIC:               </th> <td>1.221e+05</td>\n",
       "</tr>\n",
       "<tr>\n",
       "  <th>Df Residuals:</th>             <td> 25977</td>          <th>  BIC:               </th> <td>1.221e+05</td>\n",
       "</tr>\n",
       "<tr>\n",
       "  <th>Df Model:</th>                 <td>     1</td>          <th>                     </th>     <td> </td>    \n",
       "</tr>\n",
       "<tr>\n",
       "  <th>Covariance Type:</th>         <td>nonrobust</td>        <th>                     </th>     <td> </td>    \n",
       "</tr>\n",
       "</table>\n",
       "<table class=\"simpletable\">\n",
       "<tr>\n",
       "           <td></td>             <th>coef</th>     <th>std err</th>      <th>t</th>      <th>P>|t|</th>  <th>[0.025</th>    <th>0.975]</th>  \n",
       "</tr>\n",
       "<tr>\n",
       "  <th>intercept</th>          <td>    0.3028</td> <td>    0.030</td> <td>   10.117</td> <td> 0.000</td> <td>    0.244</td> <td>    0.361</td>\n",
       "</tr>\n",
       "<tr>\n",
       "  <th>Total_League_Goals</th> <td>    0.0781</td> <td>    0.009</td> <td>    8.295</td> <td> 0.000</td> <td>    0.060</td> <td>    0.097</td>\n",
       "</tr>\n",
       "</table>\n",
       "<table class=\"simpletable\">\n",
       "<tr>\n",
       "  <th>Omnibus:</th>       <td>157494.809</td> <th>  Durbin-Watson:     </th> <td>   2.007</td>\n",
       "</tr>\n",
       "<tr>\n",
       "  <th>Prob(Omnibus):</th>   <td> 0.000</td>   <th>  Jarque-Bera (JB):  </th> <td>2980.233</td>\n",
       "</tr>\n",
       "<tr>\n",
       "  <th>Skew:</th>            <td>-0.355</td>   <th>  Prob(JB):          </th> <td>    0.00</td>\n",
       "</tr>\n",
       "<tr>\n",
       "  <th>Kurtosis:</th>        <td> 1.500</td>   <th>  Cond. No.          </th> <td>    6.49</td>\n",
       "</tr>\n",
       "</table><br/><br/>Warnings:<br/>[1] Standard Errors assume that the covariance matrix of the errors is correctly specified."
      ],
      "text/plain": [
       "<class 'statsmodels.iolib.summary.Summary'>\n",
       "\"\"\"\n",
       "                               OLS Regression Results                              \n",
       "===================================================================================\n",
       "Dep. Variable:     Home_Point_Differential   R-squared:                       0.003\n",
       "Model:                                 OLS   Adj. R-squared:                  0.003\n",
       "Method:                      Least Squares   F-statistic:                     68.81\n",
       "Date:                     Wed, 15 Apr 2020   Prob (F-statistic):           1.13e-16\n",
       "Time:                             20:03:57   Log-Likelihood:                -61043.\n",
       "No. Observations:                    25979   AIC:                         1.221e+05\n",
       "Df Residuals:                        25977   BIC:                         1.221e+05\n",
       "Df Model:                                1                                         \n",
       "Covariance Type:                 nonrobust                                         \n",
       "======================================================================================\n",
       "                         coef    std err          t      P>|t|      [0.025      0.975]\n",
       "--------------------------------------------------------------------------------------\n",
       "intercept              0.3028      0.030     10.117      0.000       0.244       0.361\n",
       "Total_League_Goals     0.0781      0.009      8.295      0.000       0.060       0.097\n",
       "==============================================================================\n",
       "Omnibus:                   157494.809   Durbin-Watson:                   2.007\n",
       "Prob(Omnibus):                  0.000   Jarque-Bera (JB):             2980.233\n",
       "Skew:                          -0.355   Prob(JB):                         0.00\n",
       "Kurtosis:                       1.500   Cond. No.                         6.49\n",
       "==============================================================================\n",
       "\n",
       "Warnings:\n",
       "[1] Standard Errors assume that the covariance matrix of the errors is correctly specified.\n",
       "\"\"\""
      ]
     },
     "execution_count": 26,
     "metadata": {},
     "output_type": "execute_result"
    }
   ],
   "source": [
    "df['intercept'] = 1\n",
    "\n",
    "lm = sm.OLS(df['Home_Point_Differential'], df[['intercept', 'Total_League_Goals']])\n",
    "result = lm.fit()\n",
    "result.summary()"
   ]
  },
  {
   "cell_type": "markdown",
   "metadata": {},
   "source": [
    "> Based on the regression results comparing total league goals to home goals and points respecitively, neither variable is significantly impacted by total league goals given that the R-squared values in both regressions are close to zero."
   ]
  },
  {
   "cell_type": "markdown",
   "metadata": {},
   "source": [
    "<a id='conclusions'></a>\n",
    "## Conclusions\n",
    "\n",
    ">These conclusions are based on the results from a dataset that included the (subjective) top eleven leagues in Europe from 2008-2016. These results may be different if the rest of Europe's leagues were included and if more years were included. However, given that this sample includes all of the games of these years over the span of an eight year period with over 25,000 distinct datapoints, this data is robust and is a good representative of the population.\n",
    "\n",
    "> The Spanish league has the greatest home differential in terms of points and goals while the Scottish league has the lowest in both categories.\n",
    "\n",
    "> Goal differentials are highly correlated with point differentials and accounts for 73.9% of the variability in the home team's points, but there are a few notable deviations from the norm. For example, the Italian league has a much higher home point differential relative to its home goal differential than other leagues.\n",
    "\n",
    ">I investigated to see whether the average amount of goals score in a game would impact the home goal differential or the home point differential, but it showed minimal correlation with either."
   ]
  },
  {
   "cell_type": "code",
   "execution_count": null,
   "metadata": {},
   "outputs": [],
   "source": []
  }
 ],
 "metadata": {
  "kernelspec": {
   "display_name": "Python 3",
   "language": "python",
   "name": "python3"
  },
  "language_info": {
   "codemirror_mode": {
    "name": "ipython",
    "version": 3
   },
   "file_extension": ".py",
   "mimetype": "text/x-python",
   "name": "python",
   "nbconvert_exporter": "python",
   "pygments_lexer": "ipython3",
   "version": "3.7.4"
  }
 },
 "nbformat": 4,
 "nbformat_minor": 2
}
